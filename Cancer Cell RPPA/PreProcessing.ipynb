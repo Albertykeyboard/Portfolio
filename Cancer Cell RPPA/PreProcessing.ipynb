{
 "cells": [
  {
   "cell_type": "markdown",
   "id": "e12654c2-399e-49ca-bd9a-129b71ee2238",
   "metadata": {
    "tags": []
   },
   "source": [
    "# Useful Pandas DF Toolkit"
   ]
  },
  {
   "cell_type": "markdown",
   "id": "d42083e7-f90a-4ea7-9bb5-42d72d59e095",
   "metadata": {
    "tags": []
   },
   "source": [
    "### Splits a string Series(col name of df) into substrings.\n",
    "Series.str.split(pat=None, n=-1, expand=False)\n",
    "\n",
    "pat = delimiter specifying how to split (default is ' ').\n",
    "\n",
    "n = # of splits; None, 0 or -1 will split everything.\n",
    "\n",
    "expand = True (optional - returns a df with a separate col per split, new col names will be int not string!).\n",
    "\n",
    "https://www.geeksforgeeks.org/python-pandas-split-strings-into-two-list-columns-using-str-split/\n",
    "\n",
    "### Renames a column or row\n",
    "\n",
    "df.rename(columns={'Old Col 1': 'New Col 1', 'Old Col 2' : 'New Col 2'}, inplace= True/False) \n",
    "\n",
    "inplace = modify the df directly (True) / do not modify original df (False)\n",
    "\n",
    "### Insert a column\n",
    "\n",
    "df.insert(loc, column, value)\n",
    "\n",
    "loc = column location\n",
    "\n",
    "column = label of the inserted column\n",
    "\n",
    "value = Scalar, Series, or Array-like (column from different df)"
   ]
  },
  {
   "cell_type": "markdown",
   "id": "9f78049e-bfe9-4311-836f-70491cd5e056",
   "metadata": {
    "tags": []
   },
   "source": [
    "# Library Loading"
   ]
  },
  {
   "cell_type": "code",
   "execution_count": 2,
   "id": "1e4fe040-f020-4911-803b-e939514af711",
   "metadata": {
    "tags": []
   },
   "outputs": [],
   "source": [
    "import pandas as pd\n",
    "import numpy as np"
   ]
  },
  {
   "cell_type": "markdown",
   "id": "ecc46966-5e1f-4acc-8b15-eb11ad23f6bb",
   "metadata": {
    "tags": []
   },
   "source": [
    "# Raw Data -> Edit Data"
   ]
  },
  {
   "cell_type": "markdown",
   "id": "bbc178ca-ce60-4a6a-a8b0-023e64bb65e2",
   "metadata": {},
   "source": [
    "Protein Designations from the MCLP were used as the naming nomenclature. \n",
    "All datasets were manually changed in excel to match the MCLP Nomenlature: uniformity.xlsx.\n",
    "Note: MCLP dataset from Raw -> Edit was Unchanged but was renamed for consistency purposes."
   ]
  },
  {
   "cell_type": "markdown",
   "id": "77e571ef-4dc3-4960-b459-3e18af530b81",
   "metadata": {
    "tags": []
   },
   "source": [
    "# Edit Data -> Pandas Data Frame"
   ]
  },
  {
   "cell_type": "markdown",
   "id": "0667ccc8-0743-4514-a9aa-cf4cc18702b6",
   "metadata": {
    "tags": []
   },
   "source": [
    "### CCLE Data (Training Set)"
   ]
  },
  {
   "cell_type": "code",
   "execution_count": 3,
   "id": "415b78d7-8cb7-4072-a6e5-cb91899b1db3",
   "metadata": {
    "tags": []
   },
   "outputs": [
    {
     "name": "stdout",
     "output_type": "stream",
     "text": [
      "Index(['Unnamed: 0', '1433BETA', '1433EPSILON', '1433ZETA', '4EBP1',\n",
      "       '4EBP1_pS65', '4EBP1_pT37T46', '4EBP1_pT70', '53BP1', 'ARAF_pS299',\n",
      "       ...\n",
      "       'TUBERIN_pT1462', 'VAV1', 'VEGFR2', 'VHL', 'XBP1', 'XRCC1', 'YAP',\n",
      "       'YAP_pS127', 'YB1', 'YB1_pS102'],\n",
      "      dtype='object', length=215)\n",
      "Shape = (899, 215)\n"
     ]
    }
   ],
   "source": [
    "eCCLE = pd.read_csv('Edit Data\\Edit_CCLE.csv')\n",
    "print (eCCLE.columns)\n",
    "print ('Shape =', eCCLE.shape)\n",
    "# Splitting and Renaming Columns\n",
    "Split = eCCLE[\"Unnamed: 0\"].str.split(\"_\", n = 1, expand = True) #Split the Column Name\n",
    "eCCLE.insert(1, \"Sample\", Split[0]) \n",
    "eCCLE.insert(2, \"Cancer Type\", Split[1])\n",
    "eCCLE.drop(\"Unnamed: 0\", axis = 1, inplace = True)\n",
    "eCCLE.head()\n",
    "eCCLE.to_csv(\"CCLE.csv\", index = False)"
   ]
  },
  {
   "cell_type": "markdown",
   "id": "ab23b231-389f-4362-8aa1-4dc489c98960",
   "metadata": {
    "tags": []
   },
   "source": [
    "### TCGA Data (Test Set - 1)"
   ]
  },
  {
   "cell_type": "code",
   "execution_count": 4,
   "id": "9ecf968b-64fb-44bb-b9b6-4e26b3fd0761",
   "metadata": {
    "tags": []
   },
   "outputs": [
    {
     "name": "stdout",
     "output_type": "stream",
     "text": [
      "Index(['Sample', 'Cancer Type', 'Sample_Type', '1433EPSILON', '4EBP1',\n",
      "       '4EBP1_pS65', '4EBP1_pT37T46', '53BP1', 'ACC_pS79', 'ACC1',\n",
      "       ...\n",
      "       'PARPAB3', 'THYMIDILATESYNTHASE', 'TTF1', 'CHROMOGRANINANTERM', 'CK5',\n",
      "       'NAPSINA', 'P63', 'RET_pY905', 'SYNAPTOPHYSIN', 'ALPHACATENIN'],\n",
      "      dtype='object', length=261)\n",
      "Shape = (7694, 261)\n"
     ]
    }
   ],
   "source": [
    "eTCGA = pd.read_csv('Edit Data\\Edit_TCGA-PANCAN32.csv')\n",
    "eTCGA.rename(columns = {'Sample_ID' : 'Sample', 'Cancer_Type' : 'Cancer Type'}, inplace = True) #rename Sample_Name to Sample\n",
    "print (eTCGA.columns)\n",
    "print ('Shape =', eTCGA.shape)\n",
    "eTCGA.to_csv(\"TCGA.csv\", index = False)"
   ]
  },
  {
   "cell_type": "markdown",
   "id": "9bd5609c-5b70-4271-a794-cde1176075c4",
   "metadata": {},
   "source": [
    "### MCLP Data (Test Set - 2) "
   ]
  },
  {
   "cell_type": "code",
   "execution_count": 5,
   "id": "ca584d1a-e7e1-4740-a366-efe29ef156b2",
   "metadata": {
    "collapsed": true,
    "jupyter": {
     "outputs_hidden": true
    },
    "tags": []
   },
   "outputs": [
    {
     "data": {
      "text/plain": [
       "array([ True,  True,  True,  True,  True,  True,  True,  True,  True,\n",
       "        True,  True,  True,  True,  True,  True,  True,  True,  True,\n",
       "        True,  True,  True,  True,  True,  True,  True,  True,  True,\n",
       "        True,  True,  True,  True,  True,  True,  True,  True,  True,\n",
       "        True,  True,  True,  True,  True,  True,  True,  True,  True,\n",
       "        True,  True,  True,  True,  True,  True,  True,  True,  True,\n",
       "        True,  True,  True,  True,  True,  True,  True,  True,  True,\n",
       "        True,  True,  True,  True,  True,  True,  True,  True,  True,\n",
       "        True,  True,  True,  True,  True,  True,  True,  True,  True,\n",
       "        True,  True,  True,  True,  True,  True,  True,  True,  True,\n",
       "        True,  True,  True,  True,  True,  True,  True,  True,  True,\n",
       "        True,  True,  True,  True,  True,  True,  True,  True,  True,\n",
       "        True,  True,  True,  True,  True,  True,  True,  True,  True,\n",
       "        True,  True,  True,  True,  True,  True,  True,  True,  True,\n",
       "        True,  True,  True,  True,  True,  True,  True,  True,  True,\n",
       "        True,  True,  True,  True,  True,  True,  True,  True,  True,\n",
       "        True,  True,  True,  True,  True,  True,  True,  True,  True,\n",
       "        True,  True,  True,  True,  True,  True,  True,  True,  True,\n",
       "        True,  True,  True,  True,  True,  True,  True,  True,  True,\n",
       "        True,  True,  True,  True,  True,  True,  True,  True,  True,\n",
       "        True,  True,  True,  True,  True,  True,  True,  True,  True,\n",
       "        True,  True,  True,  True,  True,  True,  True,  True,  True,\n",
       "        True,  True,  True,  True,  True,  True,  True,  True,  True,\n",
       "        True,  True,  True,  True,  True,  True,  True,  True,  True,\n",
       "        True,  True,  True,  True,  True,  True,  True,  True,  True,\n",
       "        True,  True,  True,  True,  True,  True,  True,  True,  True,\n",
       "        True,  True,  True,  True,  True,  True,  True,  True,  True,\n",
       "        True,  True,  True,  True,  True,  True,  True,  True,  True,\n",
       "        True,  True,  True,  True,  True,  True,  True,  True,  True,\n",
       "        True,  True,  True,  True,  True,  True,  True,  True,  True,\n",
       "        True,  True,  True,  True,  True,  True,  True,  True,  True,\n",
       "        True,  True,  True,  True,  True,  True,  True,  True,  True,\n",
       "        True,  True,  True,  True,  True,  True,  True,  True,  True,\n",
       "        True,  True,  True,  True,  True,  True,  True,  True,  True,\n",
       "        True,  True,  True,  True,  True,  True,  True,  True,  True,\n",
       "        True,  True,  True,  True,  True,  True,  True,  True,  True,\n",
       "        True,  True,  True,  True,  True,  True,  True,  True,  True,\n",
       "        True,  True,  True,  True,  True,  True,  True,  True,  True,\n",
       "        True,  True,  True,  True,  True,  True,  True,  True,  True,\n",
       "        True,  True,  True,  True,  True,  True,  True,  True,  True,\n",
       "        True,  True,  True,  True,  True,  True,  True,  True,  True,\n",
       "        True,  True,  True,  True,  True,  True,  True,  True,  True,\n",
       "        True,  True,  True,  True,  True,  True,  True,  True,  True,\n",
       "        True,  True,  True,  True,  True,  True,  True,  True,  True,\n",
       "        True,  True,  True,  True,  True,  True,  True,  True,  True,\n",
       "        True,  True,  True,  True,  True,  True,  True,  True,  True,\n",
       "        True,  True,  True,  True,  True,  True,  True,  True,  True,\n",
       "        True,  True,  True,  True,  True,  True,  True,  True,  True,\n",
       "        True,  True,  True,  True,  True,  True,  True,  True,  True,\n",
       "        True,  True,  True,  True,  True,  True,  True,  True,  True,\n",
       "        True,  True,  True])"
      ]
     },
     "execution_count": 5,
     "metadata": {},
     "output_type": "execute_result"
    }
   ],
   "source": [
    "#No changes in protein names generated from raw to edit MCLP data. Used as a template. \n",
    "#Only changed to edit as a deep copy to match the location of the new CCLE and the TCGA datasets.\n",
    "#Testing here to check faithfulness of copy based on the columns\n",
    "eMCLP = pd.read_csv('Edit Data\\Edit_MCLP.csv')\n",
    "rMCLP = pd.read_csv('Raw Data\\MCLP-v1.1-Level4.csv')\n",
    "eMCLP.columns == rMCLP.columns "
   ]
  },
  {
   "cell_type": "markdown",
   "id": "9ea87ace-67f3-4420-9f60-a298e45b719b",
   "metadata": {
    "tags": []
   },
   "source": [
    "The MCLP dataset was modified:\n",
    "1) Renamed the sample_name column -> Sample\n",
    "2) Add a cancer type column and filled with CCLE classification\n",
    "    a) Ran code below to fill in matched MCLP to CCLE cell lines \n",
    "    b) manually filled the rest with cellosaurus after\n"
   ]
  },
  {
   "cell_type": "code",
   "execution_count": 6,
   "id": "42206904-706a-4c93-b554-0f0588b7ec68",
   "metadata": {
    "tags": []
   },
   "outputs": [
    {
     "data": {
      "text/html": [
       "<div>\n",
       "<style scoped>\n",
       "    .dataframe tbody tr th:only-of-type {\n",
       "        vertical-align: middle;\n",
       "    }\n",
       "\n",
       "    .dataframe tbody tr th {\n",
       "        vertical-align: top;\n",
       "    }\n",
       "\n",
       "    .dataframe thead th {\n",
       "        text-align: right;\n",
       "    }\n",
       "</style>\n",
       "<table border=\"1\" class=\"dataframe\">\n",
       "  <thead>\n",
       "    <tr style=\"text-align: right;\">\n",
       "      <th></th>\n",
       "      <th>Sample</th>\n",
       "      <th>Cancer Type</th>\n",
       "      <th>1433EPSILON</th>\n",
       "      <th>4EBP1</th>\n",
       "      <th>4EBP1_pS65</th>\n",
       "      <th>4EBP1_pT37T46</th>\n",
       "      <th>53BP1</th>\n",
       "      <th>ACC_pS79</th>\n",
       "      <th>ACC1</th>\n",
       "      <th>AKT</th>\n",
       "      <th>...</th>\n",
       "      <th>FAK_pY925</th>\n",
       "      <th>GAB2_pY452</th>\n",
       "      <th>JAK1</th>\n",
       "      <th>JUNB</th>\n",
       "      <th>NEUROPILIN1</th>\n",
       "      <th>NUR77</th>\n",
       "      <th>PKCDELTA_pT507</th>\n",
       "      <th>SMAD6</th>\n",
       "      <th>TCF4</th>\n",
       "      <th>TIF1ALPHA</th>\n",
       "    </tr>\n",
       "  </thead>\n",
       "  <tbody>\n",
       "    <tr>\n",
       "      <th>0</th>\n",
       "      <td>CAOV3</td>\n",
       "      <td></td>\n",
       "      <td>-0.206840</td>\n",
       "      <td>-0.55301</td>\n",
       "      <td>-0.16965</td>\n",
       "      <td>0.53459</td>\n",
       "      <td>-0.081414</td>\n",
       "      <td>-1.02280</td>\n",
       "      <td>0.18944</td>\n",
       "      <td>0.295060</td>\n",
       "      <td>...</td>\n",
       "      <td>NaN</td>\n",
       "      <td>NaN</td>\n",
       "      <td>NaN</td>\n",
       "      <td>NaN</td>\n",
       "      <td>NaN</td>\n",
       "      <td>NaN</td>\n",
       "      <td>NaN</td>\n",
       "      <td>NaN</td>\n",
       "      <td>NaN</td>\n",
       "      <td>NaN</td>\n",
       "    </tr>\n",
       "    <tr>\n",
       "      <th>1</th>\n",
       "      <td>HOC1</td>\n",
       "      <td></td>\n",
       "      <td>-0.126100</td>\n",
       "      <td>0.69268</td>\n",
       "      <td>0.56197</td>\n",
       "      <td>1.83740</td>\n",
       "      <td>-0.838290</td>\n",
       "      <td>-1.16030</td>\n",
       "      <td>0.40530</td>\n",
       "      <td>0.072127</td>\n",
       "      <td>...</td>\n",
       "      <td>NaN</td>\n",
       "      <td>NaN</td>\n",
       "      <td>NaN</td>\n",
       "      <td>NaN</td>\n",
       "      <td>NaN</td>\n",
       "      <td>NaN</td>\n",
       "      <td>NaN</td>\n",
       "      <td>NaN</td>\n",
       "      <td>NaN</td>\n",
       "      <td>NaN</td>\n",
       "    </tr>\n",
       "    <tr>\n",
       "      <th>2</th>\n",
       "      <td>HOC7</td>\n",
       "      <td></td>\n",
       "      <td>-0.148280</td>\n",
       "      <td>0.36835</td>\n",
       "      <td>0.64182</td>\n",
       "      <td>1.41550</td>\n",
       "      <td>-0.776860</td>\n",
       "      <td>-0.70407</td>\n",
       "      <td>0.55247</td>\n",
       "      <td>0.301970</td>\n",
       "      <td>...</td>\n",
       "      <td>NaN</td>\n",
       "      <td>NaN</td>\n",
       "      <td>NaN</td>\n",
       "      <td>NaN</td>\n",
       "      <td>NaN</td>\n",
       "      <td>NaN</td>\n",
       "      <td>NaN</td>\n",
       "      <td>NaN</td>\n",
       "      <td>NaN</td>\n",
       "      <td>NaN</td>\n",
       "    </tr>\n",
       "    <tr>\n",
       "      <th>3</th>\n",
       "      <td>HOC8</td>\n",
       "      <td></td>\n",
       "      <td>-0.047959</td>\n",
       "      <td>0.28927</td>\n",
       "      <td>0.50839</td>\n",
       "      <td>1.54540</td>\n",
       "      <td>-0.601450</td>\n",
       "      <td>-1.12940</td>\n",
       "      <td>0.86079</td>\n",
       "      <td>-1.069400</td>\n",
       "      <td>...</td>\n",
       "      <td>NaN</td>\n",
       "      <td>NaN</td>\n",
       "      <td>NaN</td>\n",
       "      <td>NaN</td>\n",
       "      <td>NaN</td>\n",
       "      <td>NaN</td>\n",
       "      <td>NaN</td>\n",
       "      <td>NaN</td>\n",
       "      <td>NaN</td>\n",
       "      <td>NaN</td>\n",
       "    </tr>\n",
       "    <tr>\n",
       "      <th>4</th>\n",
       "      <td>ZR75T</td>\n",
       "      <td></td>\n",
       "      <td>0.165510</td>\n",
       "      <td>0.59128</td>\n",
       "      <td>1.40970</td>\n",
       "      <td>1.54460</td>\n",
       "      <td>-0.599300</td>\n",
       "      <td>0.75610</td>\n",
       "      <td>1.30000</td>\n",
       "      <td>0.504230</td>\n",
       "      <td>...</td>\n",
       "      <td>NaN</td>\n",
       "      <td>NaN</td>\n",
       "      <td>NaN</td>\n",
       "      <td>NaN</td>\n",
       "      <td>NaN</td>\n",
       "      <td>NaN</td>\n",
       "      <td>NaN</td>\n",
       "      <td>NaN</td>\n",
       "      <td>NaN</td>\n",
       "      <td>NaN</td>\n",
       "    </tr>\n",
       "  </tbody>\n",
       "</table>\n",
       "<p>5 rows × 454 columns</p>\n",
       "</div>"
      ],
      "text/plain": [
       "  Sample Cancer Type  1433EPSILON    4EBP1  4EBP1_pS65  4EBP1_pT37T46  \\\n",
       "0  CAOV3                -0.206840 -0.55301    -0.16965        0.53459   \n",
       "1   HOC1                -0.126100  0.69268     0.56197        1.83740   \n",
       "2   HOC7                -0.148280  0.36835     0.64182        1.41550   \n",
       "3   HOC8                -0.047959  0.28927     0.50839        1.54540   \n",
       "4  ZR75T                 0.165510  0.59128     1.40970        1.54460   \n",
       "\n",
       "      53BP1  ACC_pS79     ACC1       AKT  ...  FAK_pY925  GAB2_pY452  JAK1  \\\n",
       "0 -0.081414  -1.02280  0.18944  0.295060  ...        NaN         NaN   NaN   \n",
       "1 -0.838290  -1.16030  0.40530  0.072127  ...        NaN         NaN   NaN   \n",
       "2 -0.776860  -0.70407  0.55247  0.301970  ...        NaN         NaN   NaN   \n",
       "3 -0.601450  -1.12940  0.86079 -1.069400  ...        NaN         NaN   NaN   \n",
       "4 -0.599300   0.75610  1.30000  0.504230  ...        NaN         NaN   NaN   \n",
       "\n",
       "   JUNB  NEUROPILIN1  NUR77  PKCDELTA_pT507  SMAD6  TCF4  TIF1ALPHA  \n",
       "0   NaN          NaN    NaN             NaN    NaN   NaN        NaN  \n",
       "1   NaN          NaN    NaN             NaN    NaN   NaN        NaN  \n",
       "2   NaN          NaN    NaN             NaN    NaN   NaN        NaN  \n",
       "3   NaN          NaN    NaN             NaN    NaN   NaN        NaN  \n",
       "4   NaN          NaN    NaN             NaN    NaN   NaN        NaN  \n",
       "\n",
       "[5 rows x 454 columns]"
      ]
     },
     "execution_count": 6,
     "metadata": {},
     "output_type": "execute_result"
    }
   ],
   "source": [
    "eMCLP.rename(columns = {'Sample_Name' : 'Sample'}, inplace = True)\n",
    "eMCLP.insert(1, \"Cancer Type\", \"\")\n",
    "eMCLP.head(5)"
   ]
  },
  {
   "cell_type": "code",
   "execution_count": 7,
   "id": "461777f3-f34d-4902-83f1-a72123123212",
   "metadata": {
    "tags": []
   },
   "outputs": [],
   "source": [
    "# Designating Cancer Types based on CCLE Classifications\n",
    "# Nested code below iterates through the MCLP Sample column and compares it to every CCLE Sample column\n",
    "# If the values match, the MCLP Cancer Type will be replaced with the CCLE Cancer Type\n",
    "\n",
    "for i in range(len(eMCLP)): \n",
    "    for j in range(len(eCCLE)):\n",
    "        if eMCLP.iloc[i, 0] == eCCLE.iloc[j, 0]:\n",
    "            eMCLP.iloc[i, 1] = eCCLE.iloc[j, 1]\n",
    "            break #allows exiting of the inner for loop\n",
    "        else:\n",
    "            eMCLP.iloc[i, 1] = 'Undefined'\n",
    "\n",
    "#converted back to csv using pd.to_csv and manually input the rest of the undefined tumor indications"
   ]
  },
  {
   "cell_type": "code",
   "execution_count": 8,
   "id": "66afb32b-9349-49dc-927e-b9d70765e2cb",
   "metadata": {
    "tags": []
   },
   "outputs": [
    {
     "name": "stdout",
     "output_type": "stream",
     "text": [
      "(651, 454)\n",
      "Cancer Type\n",
      "LUNG                                  126\n",
      "HAEMATOPOIETIC_AND_LYMPHOID_TISSUE     96\n",
      "BREAST                                 58\n",
      "OVARY                                  50\n",
      "UPPER_AERODIGESTIVE_TRACT              47\n",
      "SKIN                                   44\n",
      "LARGE_INTESTINE                        36\n",
      "ENDOMETRIUM                            29\n",
      "KIDNEY                                 27\n",
      "BONE                                   27\n",
      "Undefined                              24\n",
      "PANCREAS                               22\n",
      "SOFT_TISSUE                            18\n",
      "LIVER                                  17\n",
      "URINARY_TRACT                          11\n",
      "STOMACH                                10\n",
      "CENTRAL_NERVOUS_SYSTEM                  5\n",
      "PROSTATE                                2\n",
      "OESOPHAGUS                              2\n",
      "Name: count, dtype: int64\n"
     ]
    }
   ],
   "source": [
    "MCLP = pd.read_csv('MCLP.csv')\n",
    "print (MCLP.shape)\n",
    "print (MCLP['Cancer Type'].value_counts())"
   ]
  },
  {
   "cell_type": "markdown",
   "id": "c1ae2b48-da9d-4b8b-8f23-940dfa9a591a",
   "metadata": {
    "tags": []
   },
   "source": [
    "# Unifying Datasets to CCLE\n",
    "The CCLE dataset will be used to unify the data as it has the lowest number of protein expression data in the RPPA experiment."
   ]
  },
  {
   "cell_type": "raw",
   "id": "4ad4109d-ea67-4735-850c-5c927d36493f",
   "metadata": {
    "tags": []
   },
   "source": [
    "# Determining what features(columns) match across all datasets \n",
    "a = list(CCLE.columns.values)\n",
    "b = list(MCLP.columns.values)\n",
    "c = list(TCGA.columns.values)\n",
    "\n",
    "def uniformity(x, y, z):\n",
    "    uniform_list = []\n",
    "    for i in x:\n",
    "        #use in function to detect which items are available\n",
    "        if i in y and i in z:\n",
    "            uniform_list.append(i)\n",
    "    return uniform_list     \n",
    "\n",
    "u = uniformity(a, b, c)\n",
    "uCCLE = CCLE[u].copy(deep = True) #run a deep copy just incase modification of original list could occur.\n",
    "print ('uCCLE Shape =', uCCLE.shape)\n",
    "uCCLE.head()"
   ]
  }
 ],
 "metadata": {
  "kernelspec": {
   "display_name": "Python 3 (ipykernel)",
   "language": "python",
   "name": "python3"
  },
  "language_info": {
   "codemirror_mode": {
    "name": "ipython",
    "version": 3
   },
   "file_extension": ".py",
   "mimetype": "text/x-python",
   "name": "python",
   "nbconvert_exporter": "python",
   "pygments_lexer": "ipython3",
   "version": "3.11.5"
  }
 },
 "nbformat": 4,
 "nbformat_minor": 5
}
