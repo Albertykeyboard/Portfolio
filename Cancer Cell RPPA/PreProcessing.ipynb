{
 "cells": [
  {
   "cell_type": "markdown",
   "id": "e12654c2-399e-49ca-bd9a-129b71ee2238",
   "metadata": {
    "jp-MarkdownHeadingCollapsed": true,
    "tags": []
   },
   "source": [
    "# Useful Pandas DF Toolkit"
   ]
  },
  {
   "cell_type": "markdown",
   "id": "d42083e7-f90a-4ea7-9bb5-42d72d59e095",
   "metadata": {},
   "source": [
    "### Splits a string Series(col name of df) into substrings.\n",
    "Series.str.split(pat=None, n=-1, expand=False)\n",
    "\n",
    "pat = delimiter specifying how to split (default is ' ').\n",
    "\n",
    "n = # of splits; None, 0 or -1 will split everything.\n",
    "\n",
    "expand = True (optional - returns a df with a separate col per split, new col names will be int not string!).\n",
    "\n",
    "https://www.geeksforgeeks.org/python-pandas-split-strings-into-two-list-columns-using-str-split/\n",
    "\n",
    "### Renames a column or row\n",
    "\n",
    "df.rename(columns={'Old Col 1': 'New Col 1', 'Old Col 2' : 'New Col 2'}, inplace= True/False) \n",
    "\n",
    "inplace = modify the df directly (True) / do not modify original df (False)\n",
    "\n",
    "### Insert a column\n",
    "\n",
    "df.insert(loc, column, value)\n",
    "\n",
    "loc = column location\n",
    "\n",
    "column = label of the inserted column\n",
    "\n",
    "value = Scalar, Series, or Array-like (column from different df)"
   ]
  },
  {
   "cell_type": "markdown",
   "id": "9f78049e-bfe9-4311-836f-70491cd5e056",
   "metadata": {
    "tags": []
   },
   "source": [
    "# Library Loading"
   ]
  },
  {
   "cell_type": "code",
   "execution_count": 1,
   "id": "1e4fe040-f020-4911-803b-e939514af711",
   "metadata": {
    "tags": []
   },
   "outputs": [],
   "source": [
    "import pandas as pd\n",
    "import numpy as np"
   ]
  },
  {
   "cell_type": "markdown",
   "id": "ecc46966-5e1f-4acc-8b15-eb11ad23f6bb",
   "metadata": {},
   "source": [
    "# Raw Data -> Edit Data"
   ]
  },
  {
   "cell_type": "markdown",
   "id": "bbc178ca-ce60-4a6a-a8b0-023e64bb65e2",
   "metadata": {},
   "source": [
    "Protein Designations from the MCLP were used as the naming nomenclature. \n",
    "All datasets such were manually changed in excel to match the MCLP Nomenlature: uniformity.xlsx.\n",
    "Note: MCLP dataset from Raw -> Edit was Unchanged but was renamed for consistency purposes."
   ]
  },
  {
   "cell_type": "markdown",
   "id": "77e571ef-4dc3-4960-b459-3e18af530b81",
   "metadata": {
    "tags": []
   },
   "source": [
    "# Edit Data -> Pandas Data Frame"
   ]
  },
  {
   "cell_type": "markdown",
   "id": "0667ccc8-0743-4514-a9aa-cf4cc18702b6",
   "metadata": {
    "jp-MarkdownHeadingCollapsed": true,
    "tags": []
   },
   "source": [
    "### CCLE Data (Test Set - 1)"
   ]
  },
  {
   "cell_type": "code",
   "execution_count": 2,
   "id": "415b78d7-8cb7-4072-a6e5-cb91899b1db3",
   "metadata": {
    "tags": []
   },
   "outputs": [
    {
     "name": "stdout",
     "output_type": "stream",
     "text": [
      "Index(['Unnamed: 0', '1433BETA', '1433EPSILON', '1433ZETA', '4EBP1',\n",
      "       '4EBP1_pS65', '4EBP1_pT37T46', '4EBP1_pT70', '53BP1', 'ARAF_pS299',\n",
      "       ...\n",
      "       'TUBERIN_pT1462', 'VAV1', 'VEGFR2', 'VHL', 'XBP1', 'XRCC1', 'YAP',\n",
      "       'YAP_pS127', 'YB1', 'YB1_pS102'],\n",
      "      dtype='object', length=215)\n",
      "Shape = (899, 215)\n"
     ]
    },
    {
     "data": {
      "text/html": [
       "<div>\n",
       "<style scoped>\n",
       "    .dataframe tbody tr th:only-of-type {\n",
       "        vertical-align: middle;\n",
       "    }\n",
       "\n",
       "    .dataframe tbody tr th {\n",
       "        vertical-align: top;\n",
       "    }\n",
       "\n",
       "    .dataframe thead th {\n",
       "        text-align: right;\n",
       "    }\n",
       "</style>\n",
       "<table border=\"1\" class=\"dataframe\">\n",
       "  <thead>\n",
       "    <tr style=\"text-align: right;\">\n",
       "      <th></th>\n",
       "      <th>Sample</th>\n",
       "      <th>Cancer Type</th>\n",
       "      <th>1433BETA</th>\n",
       "      <th>1433EPSILON</th>\n",
       "      <th>1433ZETA</th>\n",
       "      <th>4EBP1</th>\n",
       "      <th>4EBP1_pS65</th>\n",
       "      <th>4EBP1_pT37T46</th>\n",
       "      <th>4EBP1_pT70</th>\n",
       "      <th>53BP1</th>\n",
       "      <th>...</th>\n",
       "      <th>TUBERIN_pT1462</th>\n",
       "      <th>VAV1</th>\n",
       "      <th>VEGFR2</th>\n",
       "      <th>VHL</th>\n",
       "      <th>XBP1</th>\n",
       "      <th>XRCC1</th>\n",
       "      <th>YAP</th>\n",
       "      <th>YAP_pS127</th>\n",
       "      <th>YB1</th>\n",
       "      <th>YB1_pS102</th>\n",
       "    </tr>\n",
       "  </thead>\n",
       "  <tbody>\n",
       "    <tr>\n",
       "      <th>0</th>\n",
       "      <td>DMS53</td>\n",
       "      <td>LUNG</td>\n",
       "      <td>-0.104888</td>\n",
       "      <td>0.060414</td>\n",
       "      <td>0.309068</td>\n",
       "      <td>-0.075506</td>\n",
       "      <td>0.230359</td>\n",
       "      <td>0.198304</td>\n",
       "      <td>-0.030541</td>\n",
       "      <td>0.455889</td>\n",
       "      <td>...</td>\n",
       "      <td>-0.099433</td>\n",
       "      <td>-0.486715</td>\n",
       "      <td>-1.147858</td>\n",
       "      <td>0.133876</td>\n",
       "      <td>-0.075812</td>\n",
       "      <td>-0.144388</td>\n",
       "      <td>-1.090303</td>\n",
       "      <td>-2.109324</td>\n",
       "      <td>0.178104</td>\n",
       "      <td>0.246541</td>\n",
       "    </tr>\n",
       "    <tr>\n",
       "      <th>1</th>\n",
       "      <td>SW1116</td>\n",
       "      <td>LARGE_INTESTINE</td>\n",
       "      <td>0.358504</td>\n",
       "      <td>-0.180291</td>\n",
       "      <td>-0.041237</td>\n",
       "      <td>-0.286629</td>\n",
       "      <td>-0.877406</td>\n",
       "      <td>-1.026948</td>\n",
       "      <td>-0.462761</td>\n",
       "      <td>-0.011197</td>\n",
       "      <td>...</td>\n",
       "      <td>-0.109777</td>\n",
       "      <td>0.349330</td>\n",
       "      <td>0.770148</td>\n",
       "      <td>0.984297</td>\n",
       "      <td>-0.168138</td>\n",
       "      <td>-0.004905</td>\n",
       "      <td>0.189294</td>\n",
       "      <td>-0.283593</td>\n",
       "      <td>0.255972</td>\n",
       "      <td>-0.121134</td>\n",
       "    </tr>\n",
       "    <tr>\n",
       "      <th>2</th>\n",
       "      <td>NCIH1694</td>\n",
       "      <td>LUNG</td>\n",
       "      <td>0.028738</td>\n",
       "      <td>0.071902</td>\n",
       "      <td>-0.094847</td>\n",
       "      <td>0.285069</td>\n",
       "      <td>1.321551</td>\n",
       "      <td>0.620703</td>\n",
       "      <td>-0.439484</td>\n",
       "      <td>0.195007</td>\n",
       "      <td>...</td>\n",
       "      <td>0.154344</td>\n",
       "      <td>-0.478189</td>\n",
       "      <td>-1.185530</td>\n",
       "      <td>1.273013</td>\n",
       "      <td>-0.240413</td>\n",
       "      <td>0.476633</td>\n",
       "      <td>-1.367465</td>\n",
       "      <td>-2.525695</td>\n",
       "      <td>-0.137880</td>\n",
       "      <td>-0.451282</td>\n",
       "    </tr>\n",
       "    <tr>\n",
       "      <th>3</th>\n",
       "      <td>P3HR1</td>\n",
       "      <td>HAEMATOPOIETIC_AND_LYMPHOID_TISSUE</td>\n",
       "      <td>0.120039</td>\n",
       "      <td>-0.066802</td>\n",
       "      <td>-0.128007</td>\n",
       "      <td>-0.552081</td>\n",
       "      <td>-0.292428</td>\n",
       "      <td>-1.415935</td>\n",
       "      <td>-0.138858</td>\n",
       "      <td>-0.066122</td>\n",
       "      <td>...</td>\n",
       "      <td>0.040106</td>\n",
       "      <td>5.923830</td>\n",
       "      <td>-3.893832</td>\n",
       "      <td>-2.499188</td>\n",
       "      <td>0.632758</td>\n",
       "      <td>0.025639</td>\n",
       "      <td>-1.189180</td>\n",
       "      <td>-3.056863</td>\n",
       "      <td>0.025997</td>\n",
       "      <td>-0.465205</td>\n",
       "    </tr>\n",
       "    <tr>\n",
       "      <th>4</th>\n",
       "      <td>HUT78</td>\n",
       "      <td>HAEMATOPOIETIC_AND_LYMPHOID_TISSUE</td>\n",
       "      <td>-0.268997</td>\n",
       "      <td>-0.060281</td>\n",
       "      <td>-0.137881</td>\n",
       "      <td>-0.398729</td>\n",
       "      <td>-0.095622</td>\n",
       "      <td>-0.533905</td>\n",
       "      <td>0.054245</td>\n",
       "      <td>-0.573022</td>\n",
       "      <td>...</td>\n",
       "      <td>-0.466919</td>\n",
       "      <td>5.475880</td>\n",
       "      <td>-0.561973</td>\n",
       "      <td>-0.500953</td>\n",
       "      <td>-0.261494</td>\n",
       "      <td>0.358679</td>\n",
       "      <td>-0.951686</td>\n",
       "      <td>-3.247388</td>\n",
       "      <td>-0.151424</td>\n",
       "      <td>-0.145426</td>\n",
       "    </tr>\n",
       "  </tbody>\n",
       "</table>\n",
       "<p>5 rows × 216 columns</p>\n",
       "</div>"
      ],
      "text/plain": [
       "     Sample                         Cancer Type  1433BETA  1433EPSILON  \\\n",
       "0     DMS53                                LUNG -0.104888     0.060414   \n",
       "1    SW1116                     LARGE_INTESTINE  0.358504    -0.180291   \n",
       "2  NCIH1694                                LUNG  0.028738     0.071902   \n",
       "3     P3HR1  HAEMATOPOIETIC_AND_LYMPHOID_TISSUE  0.120039    -0.066802   \n",
       "4     HUT78  HAEMATOPOIETIC_AND_LYMPHOID_TISSUE -0.268997    -0.060281   \n",
       "\n",
       "   1433ZETA     4EBP1  4EBP1_pS65  4EBP1_pT37T46  4EBP1_pT70     53BP1  ...  \\\n",
       "0  0.309068 -0.075506    0.230359       0.198304   -0.030541  0.455889  ...   \n",
       "1 -0.041237 -0.286629   -0.877406      -1.026948   -0.462761 -0.011197  ...   \n",
       "2 -0.094847  0.285069    1.321551       0.620703   -0.439484  0.195007  ...   \n",
       "3 -0.128007 -0.552081   -0.292428      -1.415935   -0.138858 -0.066122  ...   \n",
       "4 -0.137881 -0.398729   -0.095622      -0.533905    0.054245 -0.573022  ...   \n",
       "\n",
       "   TUBERIN_pT1462      VAV1    VEGFR2       VHL      XBP1     XRCC1       YAP  \\\n",
       "0       -0.099433 -0.486715 -1.147858  0.133876 -0.075812 -0.144388 -1.090303   \n",
       "1       -0.109777  0.349330  0.770148  0.984297 -0.168138 -0.004905  0.189294   \n",
       "2        0.154344 -0.478189 -1.185530  1.273013 -0.240413  0.476633 -1.367465   \n",
       "3        0.040106  5.923830 -3.893832 -2.499188  0.632758  0.025639 -1.189180   \n",
       "4       -0.466919  5.475880 -0.561973 -0.500953 -0.261494  0.358679 -0.951686   \n",
       "\n",
       "   YAP_pS127       YB1  YB1_pS102  \n",
       "0  -2.109324  0.178104   0.246541  \n",
       "1  -0.283593  0.255972  -0.121134  \n",
       "2  -2.525695 -0.137880  -0.451282  \n",
       "3  -3.056863  0.025997  -0.465205  \n",
       "4  -3.247388 -0.151424  -0.145426  \n",
       "\n",
       "[5 rows x 216 columns]"
      ]
     },
     "execution_count": 2,
     "metadata": {},
     "output_type": "execute_result"
    }
   ],
   "source": [
    "eCCLE = pd.read_csv('Edit Data\\Edit_CCLE.csv')\n",
    "print (eCCLE.columns)\n",
    "print ('Shape =', eCCLE.shape)\n",
    "# Splitting and Renaming Columns\n",
    "Split = eCCLE[\"Unnamed: 0\"].str.split(\"_\", n = 1, expand = True) #Split the Column Name\n",
    "eCCLE.insert(1, \"Sample\", Split[0]) \n",
    "eCCLE.insert(2, \"Cancer Type\", Split[1])\n",
    "eCCLE.drop(\"Unnamed: 0\", axis = 1, inplace = True)\n",
    "eCCLE.head()\n",
    "#eCCLE.to_csv(\"CCLE.csv\")"
   ]
  },
  {
   "cell_type": "markdown",
   "id": "ab23b231-389f-4362-8aa1-4dc489c98960",
   "metadata": {
    "jp-MarkdownHeadingCollapsed": true,
    "tags": []
   },
   "source": [
    "### TCGA Data (Test Set - 2)"
   ]
  },
  {
   "cell_type": "code",
   "execution_count": 4,
   "id": "9ecf968b-64fb-44bb-b9b6-4e26b3fd0761",
   "metadata": {
    "tags": []
   },
   "outputs": [
    {
     "name": "stdout",
     "output_type": "stream",
     "text": [
      "Index(['Sample', 'Cancer Type', 'Sample_Type', '1433EPSILON', '4EBP1',\n",
      "       '4EBP1_pS65', '4EBP1_pT37T46', '53BP1', 'ACC_pS79', 'ACC1',\n",
      "       ...\n",
      "       'PARPAB3', 'THYMIDILATESYNTHASE', 'TTF1', 'CHROMOGRANINANTERM', 'CK5',\n",
      "       'NAPSINA', 'P63', 'RET_pY905', 'SYNAPTOPHYSIN', 'ALPHACATENIN'],\n",
      "      dtype='object', length=261)\n",
      "Shape = (7694, 261)\n"
     ]
    }
   ],
   "source": [
    "eTCGA = pd.read_csv('Edit Data\\Edit_TCGA-PANCAN32.csv')\n",
    "eTCGA.rename(columns = {'Sample_ID' : 'Sample', 'Cancer_Type' : 'Cancer Type'}, inplace = True) #rename Sample_Name to Sample\n",
    "print (eTCGA.columns)\n",
    "print ('Shape =', eTCGA.shape)\n",
    "##eTCGA.to_csv(\"TCGA.csv\")"
   ]
  },
  {
   "cell_type": "markdown",
   "id": "9bd5609c-5b70-4271-a794-cde1176075c4",
   "metadata": {},
   "source": [
    "### MCLP Data (Training / Validation Set)"
   ]
  },
  {
   "cell_type": "code",
   "execution_count": null,
   "id": "ca584d1a-e7e1-4740-a366-efe29ef156b2",
   "metadata": {
    "tags": []
   },
   "outputs": [],
   "source": [
    "#No changes in protein names generated from raw to edit MCLP data. Used as a template. \n",
    "#Only changed to edit as a deep copy to match the location of the new CCLE and the TCGA datasets.\n",
    "eMCLP = pd.read_csv('Edit Data\\Edit_MCLP.csv')\n",
    "rMCLP = pd.read_csv('Raw Data\\MCLP-v1.1-Level4.csv')\n",
    "eMCLP.columns == rMCLP.columns"
   ]
  },
  {
   "cell_type": "markdown",
   "id": "9ea87ace-67f3-4420-9f60-a298e45b719b",
   "metadata": {},
   "source": [
    "The MCLP dataset was modified:\n",
    "1) Renamed the sample_name column -> Sample\n",
    "2) Add a cancer type column and filled with CCLE classification\n",
    "    a) Ran code below to fill in matched MCLP to CCLE cell lines \n",
    "    b) manually filled the rest with cellosaurus after\n"
   ]
  },
  {
   "cell_type": "code",
   "execution_count": null,
   "id": "461777f3-f34d-4902-83f1-a72123123212",
   "metadata": {
    "tags": []
   },
   "outputs": [],
   "source": [
    "# Designating Cancer Types based on CCLE Classifications\n",
    "# Nested code below iterates through the MCLP Sample column and compares it to every CCLE Sample column\n",
    "# If the values match, the MCLP Cancer Type will be replaced with the CCLE Cancer Type\n",
    "for i in range(len(eMCLP)): \n",
    "    for j in range(len(eCCLE)):\n",
    "        if eMCLP.iloc[i, 0] == eCCLE.iloc[j, 0]:\n",
    "            eMCLP.iloc[i, 1] = eCCLE.iloc[j, 1]\n",
    "            break #allows exiting of the inner for loop\n",
    "        else:\n",
    "            eMCLP.iloc[i, 1] = \"Undefined\"\n",
    "            \n",
    "#converted back to csv using pd.to_csv and manually input the rest of the undefined tumor indications"
   ]
  },
  {
   "cell_type": "code",
   "execution_count": 5,
   "id": "66afb32b-9349-49dc-927e-b9d70765e2cb",
   "metadata": {
    "tags": []
   },
   "outputs": [
    {
     "name": "stdout",
     "output_type": "stream",
     "text": [
      "(651, 454)\n",
      "Cancer Type\n",
      "LUNG                                  126\n",
      "HAEMATOPOIETIC_AND_LYMPHOID_TISSUE     96\n",
      "BREAST                                 58\n",
      "OVARY                                  50\n",
      "UPPER_AERODIGESTIVE_TRACT              47\n",
      "SKIN                                   44\n",
      "LARGE_INTESTINE                        36\n",
      "ENDOMETRIUM                            29\n",
      "KIDNEY                                 27\n",
      "BONE                                   27\n",
      "Undefined                              24\n",
      "PANCREAS                               22\n",
      "SOFT_TISSUE                            18\n",
      "LIVER                                  17\n",
      "URINARY_TRACT                          11\n",
      "STOMACH                                10\n",
      "CENTRAL_NERVOUS_SYSTEM                  5\n",
      "PROSTATE                                2\n",
      "OESOPHAGUS                              2\n",
      "Name: count, dtype: int64\n"
     ]
    }
   ],
   "source": [
    "MCLP = pd.read_csv('MCLP.csv')\n",
    "print (MCLP.shape)\n",
    "print (MCLP['Cancer Type'].value_counts())"
   ]
  },
  {
   "cell_type": "code",
   "execution_count": null,
   "id": "c8a2f646-e1da-4d1e-b5cf-49c105009546",
   "metadata": {},
   "outputs": [],
   "source": []
  },
  {
   "cell_type": "markdown",
   "id": "c1ae2b48-da9d-4b8b-8f23-940dfa9a591a",
   "metadata": {
    "jp-MarkdownHeadingCollapsed": true,
    "tags": []
   },
   "source": [
    "# Unifying Datasets to CCLE\n",
    "The CCLE dataset will be used to unify the data as it has the lowest number of protein expression data in the RPPA experiment."
   ]
  },
  {
   "cell_type": "raw",
   "id": "4ad4109d-ea67-4735-850c-5c927d36493f",
   "metadata": {
    "tags": []
   },
   "source": [
    "# Determining what features(columns) match across all datasets \n",
    "a = list(CCLE.columns.values)\n",
    "b = list(MCLP.columns.values)\n",
    "c = list(TCGA.columns.values)\n",
    "\n",
    "def uniformity(x, y, z):\n",
    "    uniform_list = []\n",
    "    for i in x:\n",
    "        #use in function to detect which items are available\n",
    "        if i in y and i in z:\n",
    "            uniform_list.append(i)\n",
    "    return uniform_list     \n",
    "\n",
    "u = uniformity(a, b, c)\n",
    "uCCLE = CCLE[u].copy(deep = True) #run a deep copy just incase modification of original list could occur.\n",
    "print ('uCCLE Shape =', uCCLE.shape)\n",
    "uCCLE.head()"
   ]
  }
 ],
 "metadata": {
  "kernelspec": {
   "display_name": "Python 3 (ipykernel)",
   "language": "python",
   "name": "python3"
  },
  "language_info": {
   "codemirror_mode": {
    "name": "ipython",
    "version": 3
   },
   "file_extension": ".py",
   "mimetype": "text/x-python",
   "name": "python",
   "nbconvert_exporter": "python",
   "pygments_lexer": "ipython3",
   "version": "3.11.5"
  }
 },
 "nbformat": 4,
 "nbformat_minor": 5
}
